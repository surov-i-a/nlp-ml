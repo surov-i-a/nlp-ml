{
 "cells": [
  {
   "cell_type": "code",
   "execution_count": 1,
   "id": "0c49b8d4",
   "metadata": {},
   "outputs": [
    {
     "data": {
      "text/html": [
       "<style>.container { width:85% !important; }</style>"
      ],
      "text/plain": [
       "<IPython.core.display.HTML object>"
      ]
     },
     "metadata": {},
     "output_type": "display_data"
    }
   ],
   "source": [
    "from IPython.display import display, HTML\n",
    "display(HTML(\"<style>.container { width:85% !important; }</style>\"))"
   ]
  },
  {
   "cell_type": "code",
   "execution_count": 2,
   "id": "ccc0ec88",
   "metadata": {},
   "outputs": [],
   "source": [
    "import pandas as pd\n",
    "from numpy import array\n",
    "import time"
   ]
  },
  {
   "cell_type": "markdown",
   "id": "ddd66404",
   "metadata": {},
   "source": [
    "Данные: 45496 текстов, состоящих из 5 предложений каждый.\n",
    "https://www.cs.rochester.edu/nlp/rocstories/\n",
    "\n",
    "Задача: классификация предложений по порядковому номеру в тексте (5 классов). Это нужно для сценарного анализа, т.е. выделения в текстах сюжетных линий. Начала таких сюжетов соответствует классу 1, продолжение - классу 2 и т.д."
   ]
  },
  {
   "cell_type": "code",
   "execution_count": 3,
   "id": "68826125",
   "metadata": {},
   "outputs": [
    {
     "name": "stdout",
     "output_type": "stream",
     "text": [
      "45496\n"
     ]
    }
   ],
   "source": [
    "dt=pd.read_csv('ROCStories_spring2016.csv')\n",
    "print(len(dt))"
   ]
  },
  {
   "cell_type": "code",
   "execution_count": 4,
   "id": "355dfdb7",
   "metadata": {},
   "outputs": [
    {
     "data": {
      "text/html": [
       "<div>\n",
       "<style scoped>\n",
       "    .dataframe tbody tr th:only-of-type {\n",
       "        vertical-align: middle;\n",
       "    }\n",
       "\n",
       "    .dataframe tbody tr th {\n",
       "        vertical-align: top;\n",
       "    }\n",
       "\n",
       "    .dataframe thead th {\n",
       "        text-align: right;\n",
       "    }\n",
       "</style>\n",
       "<table border=\"1\" class=\"dataframe\">\n",
       "  <thead>\n",
       "    <tr style=\"text-align: right;\">\n",
       "      <th></th>\n",
       "      <th>storyid</th>\n",
       "      <th>storytitle</th>\n",
       "      <th>sentence1</th>\n",
       "      <th>sentence2</th>\n",
       "      <th>sentence3</th>\n",
       "      <th>sentence4</th>\n",
       "      <th>sentence5</th>\n",
       "    </tr>\n",
       "  </thead>\n",
       "  <tbody>\n",
       "    <tr>\n",
       "      <th>2550</th>\n",
       "      <td>1627e176-13fc-4f50-a9f3-c575b92bc16d</td>\n",
       "      <td>Pitcher Perry</td>\n",
       "      <td>Perry was a great baseball pitcher.</td>\n",
       "      <td>He pitched for several games.</td>\n",
       "      <td>Perry worked hard at his craft.</td>\n",
       "      <td>Perry played hard and made it to the champions...</td>\n",
       "      <td>Now, Perry is in the Baseball Hall of Fame.</td>\n",
       "    </tr>\n",
       "    <tr>\n",
       "      <th>2551</th>\n",
       "      <td>03aaa8a5-0e58-45a9-add0-bd1cb846a2c4</td>\n",
       "      <td>Pearl Necklace</td>\n",
       "      <td>Tom wanted to buy his wife a gift.</td>\n",
       "      <td>But, he couldn't afford one.</td>\n",
       "      <td>He decided to steal something for his wife.</td>\n",
       "      <td>He stole a pearl necklace.</td>\n",
       "      <td>His wife loved the necklace and never found ou...</td>\n",
       "    </tr>\n",
       "    <tr>\n",
       "      <th>2552</th>\n",
       "      <td>43371212-23ae-40eb-9cba-5bcde4deaf41</td>\n",
       "      <td>The Vaccine</td>\n",
       "      <td>Mary was unsure about vaccines.</td>\n",
       "      <td>She decided to read up more about them.</td>\n",
       "      <td>She found different sources of information.</td>\n",
       "      <td>Some seemed more legit than others.</td>\n",
       "      <td>It helped Mary make up her mind about vaccines.</td>\n",
       "    </tr>\n",
       "    <tr>\n",
       "      <th>2553</th>\n",
       "      <td>2f2fcc80-46d9-4646-9e5f-f42a11a45e68</td>\n",
       "      <td>Cheryl's ipad</td>\n",
       "      <td>Cheryl used her iPad almost constantly.</td>\n",
       "      <td>She carried it around the house while doing ho...</td>\n",
       "      <td>One day she dropped it on the tile floor three...</td>\n",
       "      <td>She was amazed and grateful it hadn't broken.</td>\n",
       "      <td>Unfortunately, it broke the fourth time she dr...</td>\n",
       "    </tr>\n",
       "    <tr>\n",
       "      <th>2554</th>\n",
       "      <td>21e41c23-f32c-4275-9f12-ee59904f05f7</td>\n",
       "      <td>Shirt that didn't fit</td>\n",
       "      <td>It was Kelly's birthday.</td>\n",
       "      <td>She really was happy to have her party.</td>\n",
       "      <td>When her friends arrived they gave her presents.</td>\n",
       "      <td>Her friend Lucy gave her a shirt.</td>\n",
       "      <td>When Kelly tried it on the shirt didn't fit.</td>\n",
       "    </tr>\n",
       "    <tr>\n",
       "      <th>2555</th>\n",
       "      <td>a70e0af0-5b2e-4ad2-8ca7-d3f3350db6ba</td>\n",
       "      <td>Rock n Roll</td>\n",
       "      <td>The band had an exciting performance tonight.</td>\n",
       "      <td>They rocked for hours on the stage.</td>\n",
       "      <td>The audience cheered for them.</td>\n",
       "      <td>Afterwards they left the stage.</td>\n",
       "      <td>The band members took a nap as they headed tow...</td>\n",
       "    </tr>\n",
       "    <tr>\n",
       "      <th>2556</th>\n",
       "      <td>51d20c2c-278b-422f-a0f3-d14b9531db06</td>\n",
       "      <td>Shanghai</td>\n",
       "      <td>Sam went for a ride in Shanghai with his family.</td>\n",
       "      <td>There was a giant parade for the New Years.</td>\n",
       "      <td>Sam witnessed a poor man begging on the streets.</td>\n",
       "      <td>He offered the man a dollar.</td>\n",
       "      <td>The man accepted, then ripped the dollar in fr...</td>\n",
       "    </tr>\n",
       "    <tr>\n",
       "      <th>2557</th>\n",
       "      <td>b343ce86-ac2f-49bf-b5d7-b42575b45a14</td>\n",
       "      <td>Sales</td>\n",
       "      <td>Bob worked in sales.</td>\n",
       "      <td>Bob wanted to sale for his own company.</td>\n",
       "      <td>He quit his job and made a start up.</td>\n",
       "      <td>With due diligence, he was able to find a supp...</td>\n",
       "      <td>Bob now runs a successful firm.</td>\n",
       "    </tr>\n",
       "    <tr>\n",
       "      <th>2558</th>\n",
       "      <td>53f0d9a2-2444-4825-b5c9-628b87395044</td>\n",
       "      <td>Polish American</td>\n",
       "      <td>Beth is polish just like her entire family.</td>\n",
       "      <td>That's all they have ever eaten is polish foods.</td>\n",
       "      <td>Beth just moved out on her own and wanted to t...</td>\n",
       "      <td>She had a cheeseburger for dinner for the firs...</td>\n",
       "      <td>She now loves cheeseburgers and can't wait to ...</td>\n",
       "    </tr>\n",
       "    <tr>\n",
       "      <th>2559</th>\n",
       "      <td>88ec63c0-0b81-4bc9-9f77-192a91d4927c</td>\n",
       "      <td>The Rookie</td>\n",
       "      <td>Jack was a rookie on his baseball team.</td>\n",
       "      <td>He had little experience but was eager.</td>\n",
       "      <td>One game other players got injured and he got ...</td>\n",
       "      <td>Jack did very well and impressed everyone.</td>\n",
       "      <td>He was given more play time from then on out.</td>\n",
       "    </tr>\n",
       "  </tbody>\n",
       "</table>\n",
       "</div>"
      ],
      "text/plain": [
       "                                   storyid             storytitle  \\\n",
       "2550  1627e176-13fc-4f50-a9f3-c575b92bc16d          Pitcher Perry   \n",
       "2551  03aaa8a5-0e58-45a9-add0-bd1cb846a2c4         Pearl Necklace   \n",
       "2552  43371212-23ae-40eb-9cba-5bcde4deaf41            The Vaccine   \n",
       "2553  2f2fcc80-46d9-4646-9e5f-f42a11a45e68          Cheryl's ipad   \n",
       "2554  21e41c23-f32c-4275-9f12-ee59904f05f7  Shirt that didn't fit   \n",
       "2555  a70e0af0-5b2e-4ad2-8ca7-d3f3350db6ba            Rock n Roll   \n",
       "2556  51d20c2c-278b-422f-a0f3-d14b9531db06               Shanghai   \n",
       "2557  b343ce86-ac2f-49bf-b5d7-b42575b45a14                  Sales   \n",
       "2558  53f0d9a2-2444-4825-b5c9-628b87395044        Polish American   \n",
       "2559  88ec63c0-0b81-4bc9-9f77-192a91d4927c             The Rookie   \n",
       "\n",
       "                                             sentence1  \\\n",
       "2550               Perry was a great baseball pitcher.   \n",
       "2551                Tom wanted to buy his wife a gift.   \n",
       "2552                   Mary was unsure about vaccines.   \n",
       "2553           Cheryl used her iPad almost constantly.   \n",
       "2554                          It was Kelly's birthday.   \n",
       "2555     The band had an exciting performance tonight.   \n",
       "2556  Sam went for a ride in Shanghai with his family.   \n",
       "2557                              Bob worked in sales.   \n",
       "2558       Beth is polish just like her entire family.   \n",
       "2559           Jack was a rookie on his baseball team.   \n",
       "\n",
       "                                              sentence2  \\\n",
       "2550                      He pitched for several games.   \n",
       "2551                       But, he couldn't afford one.   \n",
       "2552            She decided to read up more about them.   \n",
       "2553  She carried it around the house while doing ho...   \n",
       "2554            She really was happy to have her party.   \n",
       "2555                They rocked for hours on the stage.   \n",
       "2556        There was a giant parade for the New Years.   \n",
       "2557            Bob wanted to sale for his own company.   \n",
       "2558   That's all they have ever eaten is polish foods.   \n",
       "2559            He had little experience but was eager.   \n",
       "\n",
       "                                              sentence3  \\\n",
       "2550                    Perry worked hard at his craft.   \n",
       "2551        He decided to steal something for his wife.   \n",
       "2552        She found different sources of information.   \n",
       "2553  One day she dropped it on the tile floor three...   \n",
       "2554   When her friends arrived they gave her presents.   \n",
       "2555                     The audience cheered for them.   \n",
       "2556   Sam witnessed a poor man begging on the streets.   \n",
       "2557               He quit his job and made a start up.   \n",
       "2558  Beth just moved out on her own and wanted to t...   \n",
       "2559  One game other players got injured and he got ...   \n",
       "\n",
       "                                              sentence4  \\\n",
       "2550  Perry played hard and made it to the champions...   \n",
       "2551                         He stole a pearl necklace.   \n",
       "2552                Some seemed more legit than others.   \n",
       "2553      She was amazed and grateful it hadn't broken.   \n",
       "2554                  Her friend Lucy gave her a shirt.   \n",
       "2555                    Afterwards they left the stage.   \n",
       "2556                       He offered the man a dollar.   \n",
       "2557  With due diligence, he was able to find a supp...   \n",
       "2558  She had a cheeseburger for dinner for the firs...   \n",
       "2559         Jack did very well and impressed everyone.   \n",
       "\n",
       "                                              sentence5  \n",
       "2550        Now, Perry is in the Baseball Hall of Fame.  \n",
       "2551  His wife loved the necklace and never found ou...  \n",
       "2552    It helped Mary make up her mind about vaccines.  \n",
       "2553  Unfortunately, it broke the fourth time she dr...  \n",
       "2554       When Kelly tried it on the shirt didn't fit.  \n",
       "2555  The band members took a nap as they headed tow...  \n",
       "2556  The man accepted, then ripped the dollar in fr...  \n",
       "2557                    Bob now runs a successful firm.  \n",
       "2558  She now loves cheeseburgers and can't wait to ...  \n",
       "2559      He was given more play time from then on out.  "
      ]
     },
     "execution_count": 4,
     "metadata": {},
     "output_type": "execute_result"
    }
   ],
   "source": [
    "# Пример\n",
    "dt[2550:2560]"
   ]
  },
  {
   "cell_type": "code",
   "execution_count": null,
   "id": "3460dfe7",
   "metadata": {},
   "outputs": [],
   "source": [
    "#Предложения уже очищенные, предобработка не нужна."
   ]
  },
  {
   "cell_type": "code",
   "execution_count": 51,
   "id": "95b999a1",
   "metadata": {},
   "outputs": [],
   "source": [
    "from sklearn.feature_extraction.text import CountVectorizer, TfidfVectorizer\n",
    "from sklearn.model_selection import train_test_split\n",
    "from sklearn.decomposition import TruncatedSVD\n",
    "from sklearn.naive_bayes import MultinomialNB\n",
    "from sklearn.linear_model import LogisticRegression\n",
    "from sklearn.pipeline import make_pipeline\n",
    "from sklearn.metrics import confusion_matrix, classification_report\n",
    "\n",
    "import seaborn as sns\n",
    "import matplotlib.pyplot as plt\n",
    "sns.set()\n",
    "plt.rcParams[\"figure.figsize\"] = (6,6)"
   ]
  },
  {
   "cell_type": "code",
   "execution_count": null,
   "id": "1f74ee98",
   "metadata": {},
   "outputs": [],
   "source": []
  },
  {
   "cell_type": "code",
   "execution_count": null,
   "id": "b6baf609",
   "metadata": {},
   "outputs": [],
   "source": []
  },
  {
   "cell_type": "code",
   "execution_count": 5,
   "id": "1cec38a3",
   "metadata": {},
   "outputs": [
    {
     "data": {
      "text/plain": [
       "((227480,), (227480,))"
      ]
     },
     "execution_count": 5,
     "metadata": {},
     "output_type": "execute_result"
    }
   ],
   "source": [
    "N = len(dt)\n",
    "x, y = [], []\n",
    "for n in range(N):\n",
    "    for k in range(2,7):\n",
    "        x.append(dt.iloc[n][k])\n",
    "        y.append(k-2)\n",
    "\n",
    "x = array(x)\n",
    "y = array(y)\n",
    "\n",
    "x_train, x_test, y_train, y_test = train_test_split(x, y, random_state=2024, test_size=0.25)\n",
    "x.shape, y.shape"
   ]
  },
  {
   "cell_type": "code",
   "execution_count": null,
   "id": "6706a856",
   "metadata": {},
   "outputs": [],
   "source": []
  },
  {
   "cell_type": "code",
   "execution_count": 37,
   "id": "03abc69c",
   "metadata": {},
   "outputs": [],
   "source": [
    "#TruncatedSVD(n_components=300, n_iter=25, random_state=2023),"
   ]
  },
  {
   "cell_type": "markdown",
   "id": "723c5324",
   "metadata": {},
   "source": [
    "# Baseline"
   ]
  },
  {
   "cell_type": "markdown",
   "id": "2161c1f1",
   "metadata": {},
   "source": [
    "### Count Vectorizer + Logistic regression"
   ]
  },
  {
   "cell_type": "code",
   "execution_count": 52,
   "id": "1c2f7955",
   "metadata": {},
   "outputs": [
    {
     "name": "stderr",
     "output_type": "stream",
     "text": [
      "/home/surov/anaconda3/lib/python3.8/site-packages/sklearn/linear_model/_logistic.py:458: ConvergenceWarning: lbfgs failed to converge (status=1):\n",
      "STOP: TOTAL NO. of ITERATIONS REACHED LIMIT.\n",
      "\n",
      "Increase the number of iterations (max_iter) or scale the data as shown in:\n",
      "    https://scikit-learn.org/stable/modules/preprocessing.html\n",
      "Please also refer to the documentation for alternative solver options:\n",
      "    https://scikit-learn.org/stable/modules/linear_model.html#logistic-regression\n",
      "  n_iter_i = _check_optimize_result(\n"
     ]
    },
    {
     "name": "stdout",
     "output_type": "stream",
     "text": [
      "CPU times: user 20.6 s, sys: 55.5 s, total: 1min 16s\n",
      "Wall time: 7.7 s\n"
     ]
    }
   ],
   "source": [
    "%%time\n",
    "\n",
    "model = make_pipeline(\n",
    "    CountVectorizer(stop_words=\"english\", max_df=0.7),\n",
    "    LogisticRegression(),\n",
    ")\n",
    "\n",
    "model.fit(x_train, y_train)\n",
    "y_predict = model.predict(x_test)"
   ]
  },
  {
   "cell_type": "code",
   "execution_count": 53,
   "id": "010ed3b6",
   "metadata": {},
   "outputs": [
    {
     "data": {
      "image/png": "[encoded data removed]",
      "text/plain": [
       "<Figure size 432x432 with 2 Axes>"
      ]
     },
     "metadata": {},
     "output_type": "display_data"
    }
   ],
   "source": [
    "mat = confusion_matrix(y_test, y_predict)\n",
    "sns.heatmap(mat.T, square=True, annot=True, fmt=\"d\")\n",
    "plt.xlabel(\"true labels\")\n",
    "plt.ylabel(\"predicted label\")\n",
    "plt.show()"
   ]
  },
  {
   "cell_type": "code",
   "execution_count": 54,
   "id": "44116d72",
   "metadata": {},
   "outputs": [
    {
     "name": "stdout",
     "output_type": "stream",
     "text": [
      "              precision    recall  f1-score   support\n",
      "\n",
      "           0       0.61      0.72      0.66     11362\n",
      "           1       0.36      0.43      0.39     11482\n",
      "           2       0.28      0.24      0.26     11427\n",
      "           3       0.30      0.25      0.28     11257\n",
      "           4       0.48      0.47      0.47     11342\n",
      "\n",
      "    accuracy                           0.42     56870\n",
      "   macro avg       0.41      0.42      0.41     56870\n",
      "weighted avg       0.41      0.42      0.41     56870\n",
      "\n"
     ]
    }
   ],
   "source": [
    "print(classification_report(y_test, y_predict))"
   ]
  },
  {
   "cell_type": "code",
   "execution_count": null,
   "id": "77d27e4e",
   "metadata": {},
   "outputs": [],
   "source": []
  },
  {
   "cell_type": "code",
   "execution_count": null,
   "id": "84997378",
   "metadata": {},
   "outputs": [],
   "source": []
  },
  {
   "cell_type": "markdown",
   "id": "da985e52",
   "metadata": {},
   "source": [
    "### Tf-Idf Vectorizer + Logistic regression"
   ]
  },
  {
   "cell_type": "code",
   "execution_count": 55,
   "id": "ee90cbdb",
   "metadata": {},
   "outputs": [
    {
     "name": "stderr",
     "output_type": "stream",
     "text": [
      "/home/surov/anaconda3/lib/python3.8/site-packages/sklearn/linear_model/_logistic.py:458: ConvergenceWarning: lbfgs failed to converge (status=1):\n",
      "STOP: TOTAL NO. of ITERATIONS REACHED LIMIT.\n",
      "\n",
      "Increase the number of iterations (max_iter) or scale the data as shown in:\n",
      "    https://scikit-learn.org/stable/modules/preprocessing.html\n",
      "Please also refer to the documentation for alternative solver options:\n",
      "    https://scikit-learn.org/stable/modules/linear_model.html#logistic-regression\n",
      "  n_iter_i = _check_optimize_result(\n"
     ]
    },
    {
     "name": "stdout",
     "output_type": "stream",
     "text": [
      "CPU times: user 23 s, sys: 1min 5s, total: 1min 28s\n",
      "Wall time: 8.71 s\n"
     ]
    }
   ],
   "source": [
    "%%time\n",
    "\n",
    "model = make_pipeline(\n",
    "    TfidfVectorizer(stop_words=\"english\", max_df=0.7),\n",
    "    LogisticRegression()\n",
    ")\n",
    "\n",
    "model.fit(x_train, y_train)\n",
    "y_predict = model.predict(x_test)"
   ]
  },
  {
   "cell_type": "code",
   "execution_count": 56,
   "id": "395f2400",
   "metadata": {},
   "outputs": [
    {
     "data": {
      "image/png": "[encoded data removed]",
      "text/plain": [
       "<Figure size 432x432 with 2 Axes>"
      ]
     },
     "metadata": {},
     "output_type": "display_data"
    }
   ],
   "source": [
    "mat = confusion_matrix(y_test, y_predict)\n",
    "sns.heatmap(mat.T, square=True, annot=True, fmt=\"d\")\n",
    "plt.xlabel(\"true labels\")\n",
    "plt.ylabel(\"predicted label\")\n",
    "plt.show()"
   ]
  },
  {
   "cell_type": "code",
   "execution_count": 57,
   "id": "43081d89",
   "metadata": {},
   "outputs": [
    {
     "name": "stdout",
     "output_type": "stream",
     "text": [
      "              precision    recall  f1-score   support\n",
      "\n",
      "           0       0.59      0.73      0.65     11362\n",
      "           1       0.36      0.39      0.38     11482\n",
      "           2       0.28      0.23      0.25     11427\n",
      "           3       0.30      0.28      0.29     11257\n",
      "           4       0.48      0.46      0.47     11342\n",
      "\n",
      "    accuracy                           0.42     56870\n",
      "   macro avg       0.41      0.42      0.41     56870\n",
      "weighted avg       0.41      0.42      0.41     56870\n",
      "\n"
     ]
    }
   ],
   "source": [
    "print(classification_report(y_test, y_predict))"
   ]
  },
  {
   "cell_type": "code",
   "execution_count": null,
   "id": "9325103d",
   "metadata": {},
   "outputs": [],
   "source": []
  },
  {
   "cell_type": "code",
   "execution_count": null,
   "id": "b86f5b6a",
   "metadata": {},
   "outputs": [],
   "source": []
  },
  {
   "cell_type": "markdown",
   "id": "0851cc82",
   "metadata": {},
   "source": [
    "### Count Vectorizer + Bayes"
   ]
  },
  {
   "cell_type": "code",
   "execution_count": 58,
   "id": "e63c65a7",
   "metadata": {},
   "outputs": [
    {
     "name": "stdout",
     "output_type": "stream",
     "text": [
      "CPU times: user 1.34 s, sys: 854 µs, total: 1.34 s\n",
      "Wall time: 1.34 s\n"
     ]
    }
   ],
   "source": [
    "%%time\n",
    "\n",
    "model = make_pipeline(\n",
    "    CountVectorizer(stop_words=\"english\", max_df=0.7),\n",
    "    MultinomialNB()\n",
    ")\n",
    "\n",
    "model.fit(x_train, y_train)\n",
    "y_predict = model.predict(x_test)"
   ]
  },
  {
   "cell_type": "code",
   "execution_count": 59,
   "id": "86acc439",
   "metadata": {},
   "outputs": [
    {
     "data": {
      "image/png": "[encoded data removed]",
      "text/plain": [
       "<Figure size 432x432 with 2 Axes>"
      ]
     },
     "metadata": {},
     "output_type": "display_data"
    }
   ],
   "source": [
    "mat = confusion_matrix(y_test, y_predict)\n",
    "sns.heatmap(mat.T, square=True, annot=True, fmt=\"d\")\n",
    "plt.xlabel(\"true labels\")\n",
    "plt.ylabel(\"predicted label\")\n",
    "plt.show()"
   ]
  },
  {
   "cell_type": "code",
   "execution_count": 60,
   "id": "6c6d2fb6",
   "metadata": {},
   "outputs": [
    {
     "name": "stdout",
     "output_type": "stream",
     "text": [
      "              precision    recall  f1-score   support\n",
      "\n",
      "           0       0.55      0.71      0.62     11362\n",
      "           1       0.35      0.33      0.34     11482\n",
      "           2       0.28      0.22      0.25     11427\n",
      "           3       0.29      0.27      0.28     11257\n",
      "           4       0.45      0.48      0.47     11342\n",
      "\n",
      "    accuracy                           0.40     56870\n",
      "   macro avg       0.39      0.40      0.39     56870\n",
      "weighted avg       0.39      0.40      0.39     56870\n",
      "\n"
     ]
    }
   ],
   "source": [
    "print(classification_report(y_test, y_predict))"
   ]
  },
  {
   "cell_type": "code",
   "execution_count": null,
   "id": "bbc67efb",
   "metadata": {},
   "outputs": [],
   "source": []
  },
  {
   "cell_type": "code",
   "execution_count": null,
   "id": "c8150097",
   "metadata": {},
   "outputs": [],
   "source": []
  },
  {
   "cell_type": "markdown",
   "id": "8ceb1015",
   "metadata": {},
   "source": [
    "### Tf-Idf Vectorizer + Bayes"
   ]
  },
  {
   "cell_type": "code",
   "execution_count": 61,
   "id": "e1f9ebe1",
   "metadata": {},
   "outputs": [
    {
     "name": "stdout",
     "output_type": "stream",
     "text": [
      "CPU times: user 1.42 s, sys: 571 µs, total: 1.42 s\n",
      "Wall time: 1.42 s\n"
     ]
    }
   ],
   "source": [
    "%%time\n",
    "\n",
    "model = make_pipeline(\n",
    "    TfidfVectorizer(stop_words=\"english\", max_df=0.7),\n",
    "    MultinomialNB()\n",
    ")\n",
    "\n",
    "model.fit(x_train, y_train)\n",
    "y_predict = model.predict(x_test)"
   ]
  },
  {
   "cell_type": "code",
   "execution_count": 62,
   "id": "d47bd3a4",
   "metadata": {},
   "outputs": [
    {
     "data": {
      "image/png": "[encoded data removed]",
      "text/plain": [
       "<Figure size 432x432 with 2 Axes>"
      ]
     },
     "metadata": {},
     "output_type": "display_data"
    }
   ],
   "source": [
    "mat = confusion_matrix(y_test, y_predict)\n",
    "sns.heatmap(mat.T, square=True, annot=True, fmt=\"d\")\n",
    "plt.xlabel(\"true labels\")\n",
    "plt.ylabel(\"predicted label\")\n",
    "plt.show()"
   ]
  },
  {
   "cell_type": "code",
   "execution_count": 63,
   "id": "247ca4a2",
   "metadata": {},
   "outputs": [
    {
     "name": "stdout",
     "output_type": "stream",
     "text": [
      "              precision    recall  f1-score   support\n",
      "\n",
      "           0       0.55      0.71      0.62     11362\n",
      "           1       0.35      0.33      0.34     11482\n",
      "           2       0.28      0.22      0.25     11427\n",
      "           3       0.29      0.26      0.28     11257\n",
      "           4       0.45      0.47      0.46     11342\n",
      "\n",
      "    accuracy                           0.40     56870\n",
      "   macro avg       0.38      0.40      0.39     56870\n",
      "weighted avg       0.38      0.40      0.39     56870\n",
      "\n"
     ]
    }
   ],
   "source": [
    "print(classification_report(y_test, y_predict))"
   ]
  },
  {
   "cell_type": "markdown",
   "id": "d3c4ac24",
   "metadata": {},
   "source": [
    "# Вывод: все модели сносно распознают начало и конец текста. Предложения в середине различают слабо."
   ]
  },
  {
   "cell_type": "code",
   "execution_count": null,
   "id": "7c478e3f",
   "metadata": {},
   "outputs": [],
   "source": []
  }
 ],
 "metadata": {
  "kernelspec": {
   "display_name": "Python 3",
   "language": "python",
   "name": "python3"
  },
  "language_info": {
   "codemirror_mode": {
    "name": "ipython",
    "version": 3
   },
   "file_extension": ".py",
   "mimetype": "text/x-python",
   "name": "python",
   "nbconvert_exporter": "python",
   "pygments_lexer": "ipython3",
   "version": "3.8.8"
  }
 },
 "nbformat": 4,
 "nbformat_minor": 5
}
